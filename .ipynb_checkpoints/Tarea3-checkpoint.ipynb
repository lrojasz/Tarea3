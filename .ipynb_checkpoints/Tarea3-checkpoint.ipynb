{
 "cells": [
  {
   "cell_type": "markdown",
   "metadata": {},
   "source": [
    "### ---\n",
    "\n",
    "# Universidad de Costa Rica\n",
    "\n",
    "### Facultad de Ingeniería\n",
    "\n",
    "### Escuela de Ingeniería Eléctrica\n",
    "\n",
    "#### IE0405 - Modelos Probabilísticos de Señales y Sistemas\n",
    "\n",
    "---\n",
    "\n",
    "# Tarea de programación 3:\n",
    "\n",
    "*Estudiante:* **Laura Rojas**\n",
    "\n",
    "*Carnet:* **B76798**\n",
    "\n",
    "*Correo electrónico:* **laura.rojaszumbado@ucr.ac.cr**\n",
    "\n",
    "---"
   ]
  },
  {
   "cell_type": "markdown",
   "metadata": {},
   "source": [
    "## 1) A partir de los datos, encontrar la mejor curva de ajuste (modelo probabilístico) para las funciones de densidad marginales de X y Y"
   ]
  },
  {
   "cell_type": "code",
   "execution_count": 45,
   "metadata": {},
   "outputs": [
    {
     "name": "stdout",
     "output_type": "stream",
     "text": [
      "   Unnamed: 0       y5       y6       y7       y8       y9      y10      y11  \\\n",
      "0          x5  0.00262  0.00177  0.00325  0.00353  0.00300  0.00365  0.00544   \n",
      "1          x6  0.00493  0.00307  0.00216  0.00186  0.00448  0.00356  0.00370   \n",
      "2          x7  0.00283  0.00333  0.00369  0.00387  0.00396  0.00275  0.00569   \n",
      "3          x8  0.00288  0.00143  0.00456  0.00205  0.00273  0.00357  0.00175   \n",
      "4          x9  0.00466  0.00404  0.00313  0.00318  0.00195  0.00430  0.00437   \n",
      "5         x10  0.00277  0.00293  0.00373  0.00315  0.00509  0.00259  0.00512   \n",
      "6         x11  0.00425  0.00405  0.00389  0.00315  0.00198  0.00418  0.00526   \n",
      "7         x12  0.00230  0.00294  0.00217  0.00533  0.00328  0.00532  0.00596   \n",
      "8         x13  0.00361  0.00461  0.00000  0.00333  0.00158  0.00517  0.00364   \n",
      "9         x14  0.00277  0.00257  0.00327  0.00428  0.00498  0.00214  0.00292   \n",
      "10        x15  0.00336  0.00290  0.00120  0.00108  0.00243  0.00227  0.00562   \n",
      "\n",
      "        y12      y13  ...      y16      y17      y18      y19      y20  \\\n",
      "0   0.00466  0.00381  ...  0.00490  0.00220  0.00359  0.00304  0.00212   \n",
      "1   0.00376  0.00381  ...  0.00337  0.00301  0.00435  0.00369  0.00266   \n",
      "2   0.00223  0.00364  ...  0.00441  0.00644  0.00316  0.00389  0.00328   \n",
      "3   0.00551  0.00627  ...  0.00881  0.00650  0.00431  0.00486  0.00457   \n",
      "4   0.00666  0.01030  ...  0.01399  0.00934  0.00784  0.00416  0.00298   \n",
      "5   0.00727  0.01273  ...  0.01500  0.01172  0.00766  0.00644  0.00498   \n",
      "6   0.00645  0.00944  ...  0.01179  0.00905  0.00792  0.00482  0.00462   \n",
      "7   0.00453  0.00395  ...  0.00873  0.00635  0.00634  0.00205  0.00363   \n",
      "8   0.00267  0.00303  ...  0.00585  0.00430  0.00318  0.00488  0.00426   \n",
      "9   0.00218  0.00302  ...  0.00121  0.00350  0.00121  0.00400  0.00265   \n",
      "10  0.00247  0.00363  ...  0.00387  0.00385  0.00388  0.00257  0.00406   \n",
      "\n",
      "        y21      y22      y23      y24      y25  \n",
      "0   0.00355  0.00247  0.00337  0.00184  0.00266  \n",
      "1   0.00396  0.00394  0.00495  0.00140  0.00387  \n",
      "2   0.00244  0.00526  0.00488  0.00387  0.00593  \n",
      "3   0.00339  0.00276  0.00339  0.00305  0.00195  \n",
      "4   0.00292  0.00323  0.00320  0.00334  0.00238  \n",
      "5   0.00359  0.00396  0.00411  0.00149  0.00321  \n",
      "6   0.00296  0.00112  0.00238  0.00271  0.00366  \n",
      "7   0.00528  0.00367  0.00467  0.00356  0.00340  \n",
      "8   0.00255  0.00400  0.00351  0.00388  0.00397  \n",
      "9   0.00234  0.00145  0.00358  0.00190  0.00268  \n",
      "10  0.00393  0.00244  0.00333  0.00235  0.00286  \n",
      "\n",
      "[11 rows x 22 columns]\n"
     ]
    },
    {
     "ename": "AttributeError",
     "evalue": "'DataFrame' object has no attribute 'one'",
     "output_type": "error",
     "traceback": [
      "\u001b[1;31m---------------------------------------------------------------------------\u001b[0m",
      "\u001b[1;31mAttributeError\u001b[0m                            Traceback (most recent call last)",
      "\u001b[1;32m<ipython-input-45-63b09cf078f9>\u001b[0m in \u001b[0;36m<module>\u001b[1;34m\u001b[0m\n\u001b[0;32m     10\u001b[0m \u001b[1;33m\u001b[0m\u001b[0m\n\u001b[0;32m     11\u001b[0m \u001b[1;33m\u001b[0m\u001b[0m\n\u001b[1;32m---> 12\u001b[1;33m \u001b[0mprint\u001b[0m\u001b[1;33m(\u001b[0m\u001b[0mdatosXY\u001b[0m\u001b[1;33m.\u001b[0m\u001b[0mone\u001b[0m\u001b[1;33m)\u001b[0m\u001b[1;33m\u001b[0m\u001b[1;33m\u001b[0m\u001b[0m\n\u001b[0m\u001b[0;32m     13\u001b[0m \u001b[1;33m\u001b[0m\u001b[0m\n\u001b[0;32m     14\u001b[0m \u001b[0mdatosXY\u001b[0m\u001b[1;33m.\u001b[0m\u001b[0mplot\u001b[0m\u001b[1;33m.\u001b[0m\u001b[0mline\u001b[0m\u001b[1;33m(\u001b[0m\u001b[1;33m)\u001b[0m\u001b[1;33m\u001b[0m\u001b[1;33m\u001b[0m\u001b[0m\n",
      "\u001b[1;32m~\\anaconda3\\lib\\site-packages\\pandas\\core\\generic.py\u001b[0m in \u001b[0;36m__getattr__\u001b[1;34m(self, name)\u001b[0m\n\u001b[0;32m   5272\u001b[0m             \u001b[1;32mif\u001b[0m \u001b[0mself\u001b[0m\u001b[1;33m.\u001b[0m\u001b[0m_info_axis\u001b[0m\u001b[1;33m.\u001b[0m\u001b[0m_can_hold_identifiers_and_holds_name\u001b[0m\u001b[1;33m(\u001b[0m\u001b[0mname\u001b[0m\u001b[1;33m)\u001b[0m\u001b[1;33m:\u001b[0m\u001b[1;33m\u001b[0m\u001b[1;33m\u001b[0m\u001b[0m\n\u001b[0;32m   5273\u001b[0m                 \u001b[1;32mreturn\u001b[0m \u001b[0mself\u001b[0m\u001b[1;33m[\u001b[0m\u001b[0mname\u001b[0m\u001b[1;33m]\u001b[0m\u001b[1;33m\u001b[0m\u001b[1;33m\u001b[0m\u001b[0m\n\u001b[1;32m-> 5274\u001b[1;33m             \u001b[1;32mreturn\u001b[0m \u001b[0mobject\u001b[0m\u001b[1;33m.\u001b[0m\u001b[0m__getattribute__\u001b[0m\u001b[1;33m(\u001b[0m\u001b[0mself\u001b[0m\u001b[1;33m,\u001b[0m \u001b[0mname\u001b[0m\u001b[1;33m)\u001b[0m\u001b[1;33m\u001b[0m\u001b[1;33m\u001b[0m\u001b[0m\n\u001b[0m\u001b[0;32m   5275\u001b[0m \u001b[1;33m\u001b[0m\u001b[0m\n\u001b[0;32m   5276\u001b[0m     \u001b[1;32mdef\u001b[0m \u001b[0m__setattr__\u001b[0m\u001b[1;33m(\u001b[0m\u001b[0mself\u001b[0m\u001b[1;33m,\u001b[0m \u001b[0mname\u001b[0m\u001b[1;33m:\u001b[0m \u001b[0mstr\u001b[0m\u001b[1;33m,\u001b[0m \u001b[0mvalue\u001b[0m\u001b[1;33m)\u001b[0m \u001b[1;33m->\u001b[0m \u001b[1;32mNone\u001b[0m\u001b[1;33m:\u001b[0m\u001b[1;33m\u001b[0m\u001b[1;33m\u001b[0m\u001b[0m\n",
      "\u001b[1;31mAttributeError\u001b[0m: 'DataFrame' object has no attribute 'one'"
     ]
    }
   ],
   "source": [
    "#importar bibliotecas de pandas, matplotlib y numpy\n",
    "import matplotlib.pyplot as plt\n",
    "import pandas as pd \n",
    "import numpy as np \n",
    "\n",
    "\n",
    "#imprimir datos csv\n",
    "datosXY = pd.read_csv('xy.csv',header=0) #convertir datos de archivo .csv a un dataFrame de pandas\n",
    "print(datosXY)\n",
    "\n",
    "\n",
    "#print(datosXY.one)\n",
    "\n",
    "datosXY.plot.line()\n",
    "\n"
   ]
  },
  {
   "cell_type": "markdown",
   "metadata": {},
   "source": [
    "## 2)  ¿Son independientes los datos? Diseñar una prueba de independencia para los datos disponibles."
   ]
  },
  {
   "cell_type": "code",
   "execution_count": 25,
   "metadata": {},
   "outputs": [],
   "source": [
    "#importar bibliotecas de pandas, matplotlib y numpy\n",
    "import matplotlib.pyplot as plt\n",
    "import pandas as pd \n",
    "import numpy as np \n",
    "\n",
    "\n",
    "#imprimir datos csv\n",
    "datosCSV = pd.read_csv('xy.csv',header=None) #convertir datos de archivo .csv a un dataFrame de pandas\n",
    "#print(datosCSV)\n",
    "\n",
    "#cálculo de probabilidades condicionales dado el punto 3\n",
    "#probabilidad dado A\n",
    "#counts[\"A|B\"] = counts[\"AYB\"]/counts[\"B\"]\n",
    "#probabilidad dado B\n",
    "#counts[\"B|A\"] = counts[\"AYB\"]/counts[\"A\"]\n",
    "\n",
    "#si la probabilidad conjunta es igual al producto de las probabilidades de los eventos individuales son independientes\n",
    "\n",
    "#if counts[\"AYB\"] == counts[\"A\"] * counts[\"B\"]:\n",
    "#    print(\"Las características A y B son independientes\")\n",
    "#elif counts[\"AYB\"] == 0:\n",
    "#    print(\"Las características A y B son incompatibles\")\n",
    "#else:\n",
    "#    print(\"Las características A y B tienen una dependencia indefinida\")"
   ]
  },
  {
   "cell_type": "markdown",
   "metadata": {},
   "source": [
    "## 3) Si son independientes, ¿cuál es entonces la función de densidad conjunta que modela los datos?"
   ]
  },
  {
   "cell_type": "code",
   "execution_count": 4,
   "metadata": {},
   "outputs": [],
   "source": [
    "#importar bibliotecas de pandas, matplotlib y numpy\n",
    "import matplotlib.pyplot as plt\n",
    "import pandas as pd \n",
    "import numpy as np \n",
    "\n",
    "\n",
    "#imprimir datos csv\n",
    "datosCSV = pd.read_csv('xy.csv',header=None) #convertir datos de archivo .csv a un dataFrame de pandas\n",
    "#print(datosCSV)"
   ]
  },
  {
   "cell_type": "markdown",
   "metadata": {},
   "source": [
    "## 4) Hallar los valores de correlación y covarianza y explicar su significado."
   ]
  },
  {
   "cell_type": "code",
   "execution_count": 5,
   "metadata": {},
   "outputs": [],
   "source": [
    "#importar bibliotecas de pandas, matplotlib y numpy\n",
    "import matplotlib.pyplot as plt\n",
    "import pandas as pd \n",
    "import numpy as np \n",
    "\n",
    "\n",
    "#imprimir datos csv\n",
    "datosCSV = pd.read_csv('xy.csv',header=None) #convertir datos de archivo .csv a un dataFrame de pandas\n",
    "#print(datosCSV)"
   ]
  },
  {
   "cell_type": "markdown",
   "metadata": {},
   "source": [
    "## 5) Graficar las funciones de densidad marginales (2D), la función de densidad conjunta (3D)."
   ]
  },
  {
   "cell_type": "code",
   "execution_count": 8,
   "metadata": {
    "scrolled": true
   },
   "outputs": [],
   "source": [
    "#importar bibliotecas de pandas, matplotlib y numpy\n",
    "import matplotlib.pyplot as plt\n",
    "import pandas as pd \n",
    "import numpy as np \n",
    "\n",
    "\n",
    "#imprimir datos csv\n",
    "datosCSV = pd.read_csv('xy.csv',header=None) #convertir datos de archivo .csv a un dataFrame de pandas\n",
    "#print(datosCSV)"
   ]
  }
 ],
 "metadata": {
  "kernelspec": {
   "display_name": "Python 3",
   "language": "python",
   "name": "python3"
  },
  "language_info": {
   "codemirror_mode": {
    "name": "ipython",
    "version": 3
   },
   "file_extension": ".py",
   "mimetype": "text/x-python",
   "name": "python",
   "nbconvert_exporter": "python",
   "pygments_lexer": "ipython3",
   "version": "3.7.6"
  }
 },
 "nbformat": 4,
 "nbformat_minor": 4
}
